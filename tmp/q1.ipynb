{
 "cells": [
  {
   "cell_type": "code",
   "execution_count": null,
   "metadata": {},
   "outputs": [],
   "source": [
    "import numpy as np\n",
    "from math import pow\n",
    "import pandas\n",
    "from itertools import combinations\n",
    "import numpy as np\n",
    "from math import pow\n"
   ]
  },
  {
   "cell_type": "code",
   "execution_count": null,
   "metadata": {},
   "outputs": [],
   "source": [
    "\n",
    "with open(r'C:\\Users\\494807\\Desktop\\Projects\\jessica\\24583b9b41590c44\\justaminute.02.in', 'r') as f:\n",
    "    red = f.readlines()\n",
    "\n",
    "_count = -1\n",
    "_l = []\n",
    "for i in red:\n",
    "    \n",
    "    if (_count < 0):        \n",
    "        _count = int(i)    \n",
    "    else:\n",
    "        item = i.split()[1:]\n",
    "        li = np.zeros((1,1,_count))\n",
    "        for r in range(1,len(item)+1):\n",
    "            comb = list(combinations(item, r))\n",
    "            for l in comb:\n",
    "                item_list = np.zeros((1,1,_count))\n",
    "                for i in l:\n",
    "                    item_list[0][0][int(i)] = 1\n",
    "                li = np.concatenate([li,item_list],axis=1).reshape(1, li.shape[1]+1, 3)\n",
    "                \n",
    "        li = np.repeat(li, pow(2,_count)/len(li[0]), axis=0).reshape(1,8,3)\n",
    "    _l.append(li)\n",
    "np.concatenate(_l, axis=-1)"
   ]
  },
  {
   "cell_type": "code",
   "execution_count": null,
   "metadata": {},
   "outputs": [],
   "source": [
    "int(pow(2,_count))/len(li[0])"
   ]
  },
  {
   "cell_type": "code",
   "execution_count": null,
   "metadata": {},
   "outputs": [],
   "source": [
    "from itertools import combinations\n",
    "_count = 3\n",
    "item = [0,2]\n",
    "li = np.zeros((1,1,_count))\n",
    "for r in range(1,len(item)+1):\n",
    "    comb = list(combinations(item, r))\n",
    "    for l in comb:\n",
    "        item_list = np.zeros((1,1,_count))\n",
    "        for i in l:\n",
    "            item_list[0][0][i] = 1\n",
    "        li = np.concatenate([li,item_list],axis=1).reshape(1, li.shape[1]+1, 3)\n",
    "     \n",
    "li = np.repeat(li, pow(2,_count)/len(li[0]), axis=0).reshape(1,8,3)\n",
    "\n",
    "li\n"
   ]
  },
  {
   "cell_type": "code",
   "execution_count": null,
   "metadata": {},
   "outputs": [],
   "source": [
    "ar = np.array([[[0, 0, 0],[0, 0, 0],[0, 0, 0],[0, 0, 0],[0, 0, 0],[0, 0, 0],[0, 0, 0],[0, 0, 0]],\n",
    "               [[0, 0, 0],[0, 0, 0],[0, 0, 0],[0, 0, 0],[0, 0, 1],[0, 0, 1],[0, 0, 1],[0, 0, 1]],\n",
    "               [[0, 0, 0],[0, 0, 1],[1, 0, 0],[3, 0, 1],[0, 0, 0],[0, 0, 1],[1, 0, 0],[3, 0, 1]]])\n",
    "# ar = np.array()\n",
    "\n",
    "np.array(np.meshgrid([0], [1], [1,3])).T.reshape(-1,3)\n",
    "\n"
   ]
  },
  {
   "cell_type": "code",
   "execution_count": null,
   "metadata": {},
   "outputs": [],
   "source": [
    "a1 = np.array([[0, 0, 0]])\n",
    "a2 = np.array([[0, 0, 0],[1, 0, 0]])\n",
    "# a3 = np.array([[0, 0, 0],[0, 0, 1],[1, 0, 0],[1, 0, 1]])\n",
    "np.array(np.meshgrid(a1,a2))#.T.reshape(-1,3)"
   ]
  },
  {
   "cell_type": "code",
   "execution_count": null,
   "metadata": {},
   "outputs": [],
   "source": [
    "ar1 = np.array([[0, 0, 0],[0, 0, 0],[0, 0, 0],[0, 0, 0],[0, 0, 0],[0, 0, 0],[0, 0, 0],[0, 0, 0]])\n",
    "ar2 = np.array([[[0, 0, 1],[0, 0, 2],[0, 0, 3],[0, 0, 4]]])\n",
    "ar3 = np.array([[0, 0, 0],[0, 0, 1],[1, 0, 0],[1, 0, 1],[0, 0, 0],[0, 0, 1],[1, 0, 0],[1, 0, 1]])\n",
    "\n",
    "np.repeat(ar2, 2, axis=0).reshape(1,8,3)\n"
   ]
  },
  {
   "cell_type": "code",
   "execution_count": null,
   "metadata": {},
   "outputs": [],
   "source": [
    "t = np.concatenate([ar1,ar2,ar3], axis=1).reshape(8,3,3)\n",
    "# ar1.shape\n",
    "t"
   ]
  },
  {
   "cell_type": "code",
   "execution_count": null,
   "metadata": {},
   "outputs": [],
   "source": [
    "p = li[0]\n",
    "for i in li[1:]:\n",
    "    lp = len(p[0])\n",
    "    lii = len(i[0])\n",
    "    p = np.concatenate([p,i],axis=1).reshape(1, p.shape[1]+1, 3)\n",
    "\n",
    "p.shape\n"
   ]
  },
  {
   "cell_type": "code",
   "execution_count": null,
   "metadata": {},
   "outputs": [],
   "source": [
    "li[0].s"
   ]
  },
  {
   "cell_type": "code",
   "execution_count": null,
   "metadata": {},
   "outputs": [],
   "source": [
    "import sys\n",
    "display = 0\n",
    "real = 0\n",
    "from itertools import combinations\n",
    "import numpy as np\n",
    "\n",
    "with open(r'C:\\Users\\494807\\Desktop\\Projects\\jessica\\24583b9b41590c44\\justaminute.02.in', 'r') as f:\n",
    "    red = f.readlines()\n",
    "\n",
    "_count = -1\n",
    "data = []\n",
    "nm = None\n",
    "for i in red:\n",
    "    if (_count < 0):\n",
    "        \n",
    "        nm = np.zeros((int(i),int(i)))\n",
    "        \n",
    "    else:\n",
    "        i = i.split()[1:]\n",
    "        # for index, item in enumerate(i):\n",
    "        for item in i:\n",
    "            nm[_count][int(item)-1] = 1      \n",
    "        # data.append(item)\n",
    "    _count += 1\n",
    "np.argwhere(np.any(a==9,axis=1))[:,0]"
   ]
  },
  {
   "cell_type": "code",
   "execution_count": null,
   "metadata": {},
   "outputs": [],
   "source": [
    "np.array([[1 , 2, 3, 4], [5, 6,  8], [9, 10, 11, 12]])"
   ]
  },
  {
   "cell_type": "code",
   "execution_count": null,
   "metadata": {},
   "outputs": [],
   "source": [
    "_count = -1\n",
    "with open(r'C:\\Users\\494807\\Desktop\\Projects\\jessica\\24583b9b41590c44\\justaminute.02.in', 'r') as f:\n",
    "    data = f.readlines()\n",
    "lag = 0\n",
    "for d in data:\n",
    "    if (_count < 0):\n",
    "        _count = int(d)\n",
    "    else:\n",
    "        d = d.split()\n",
    "        ti = int(d[0])\n",
    "        i = int(d[1])\n",
    "        dif = ti - i\n",
    "        if dif > lag:\n",
    "            lag += dif - lag\n",
    "        print(ti,i)\n",
    "print(lag)"
   ]
  },
  {
   "cell_type": "code",
   "execution_count": null,
   "metadata": {},
   "outputs": [],
   "source": [
    "data = [set(),set([1]),set([3])]\n",
    "count = 0\n",
    "cini = 1\n",
    "empty = set()\n",
    "while len(empty) < len(data):\n",
    "    for index, row in enumerate(data):\n",
    "        row.discard(cini)\n",
    "        cini = (cini % len(data)) + 1\n",
    "        if len(row) == 0:\n",
    "            empty.add(index)\n",
    "    count += 1\n",
    "count"
   ]
  },
  {
   "cell_type": "code",
   "execution_count": null,
   "metadata": {},
   "outputs": [],
   "source": [
    "a = b = 3\n",
    "for index in range(3):\n",
    "    print(index, a, b)\n",
    "    a = (a % 3) + 1\n",
    "    b = ((b % 3) + 1) % 3 + 1\n"
   ]
  },
  {
   "cell_type": "code",
   "execution_count": null,
   "metadata": {},
   "outputs": [],
   "source": [
    "from itertools import chain, combinations, product\n",
    "\n",
    "data = [\n",
    "    [],\n",
    "    [1],\n",
    "    [1,3]\n",
    "]\n",
    "\n",
    "for i, item in enumerate(data):\n",
    "    li = []\n",
    "    for r in range(len(item)+1):\n",
    "        for l in list(combinations(item, r)):\n",
    "            li.append(set(l))\n",
    "    data[i] = li\n",
    "data = [list(i) for i in list(product(*data))]\n",
    "data"
   ]
  },
  {
   "cell_type": "code",
   "execution_count": null,
   "metadata": {},
   "outputs": [],
   "source": [
    "from itertools import chain, combinations, product\n",
    "\n",
    "def powerset(iterable):\n",
    "    \"powerset([1,2,3]) --> () (1,) (2,) (3,) (1,2) (1,3) (2,3) (1,2,3)\"\n",
    "    s = list(iterable)\n",
    "    return chain.from_iterable(combinations(s, r) for r in range(len(s)+1))\n",
    "\n",
    "\n",
    " \n",
    "# initialize lists\n",
    "list_1 = []\n",
    "list_2 = [1]\n",
    "list_3 = [1,3]\n",
    "a = [list_1,list_2,list_3]\n",
    "unique_combinations = list(product(*a))\n",
    " \n",
    "# printing unique_combination list\n",
    "print(unique_combinations)"
   ]
  },
  {
   "cell_type": "code",
   "execution_count": null,
   "metadata": {},
   "outputs": [],
   "source": [
    "s = [1,2,3]\n",
    "[list(combinations(s, r)) for r in range(len(s)+1)]"
   ]
  },
  {
   "cell_type": "code",
   "execution_count": null,
   "metadata": {},
   "outputs": [],
   "source": [
    "a = [[()],[(),(1,)],[(1,3),(1,),(3,),()]]\n",
    "list(product(*a))"
   ]
  },
  {
   "cell_type": "code",
   "execution_count": null,
   "metadata": {},
   "outputs": [],
   "source": [
    "def binarySearch(v, To_Find):\n",
    "    lo = 0\n",
    "    hi = len(v) - 1\n",
    "    while hi - lo > 1:\n",
    "        mid = (hi + lo) // 2\n",
    "        if v[mid] < To_Find:\n",
    "            lo = mid + 1\n",
    "        else:\n",
    "            hi = mid\n",
    "    if v[lo] >= To_Find:\n",
    "        return v[:lo], v[lo:]\n",
    "    elif v[hi] >= To_Find:\n",
    "        return v[:hi], v[hi:]\n",
    "    else:\n",
    "        return v, []"
   ]
  },
  {
   "cell_type": "code",
   "execution_count": null,
   "metadata": {},
   "outputs": [],
   "source": [
    "data1 = [[], [], [1,5], [], []]\n",
    "\n",
    "_len = len(data1)\n",
    "jelo_max = 0\n",
    "aghab_max = 0\n",
    "\n",
    "for index, wishlist in enumerate(data1):\n",
    "    wishlist = list(wishlist)\n",
    "    index += 1\n",
    "    if len(wishlist) == 0:\n",
    "        continue\n",
    "\n",
    "    jelo = 0\n",
    "    aghab = 0\n",
    "    l1, l2 = binarySearch(wishlist, index)\n",
    "    lenl1 = len(l1)\n",
    "    lenl2 = len(l2)\n",
    "\n",
    "    if lenl1 != 0:\n",
    "        jelo = _len - (index - l1[lenl1-1])\n",
    "    else:\n",
    "        jelo = l2[lenl2-1] - index\n",
    "\n",
    "    if lenl2 != 0:\n",
    "        aghab = _len - (l2[0] - index)\n",
    "    else:\n",
    "        aghab = index - l1[0]\n",
    "\n",
    "    jelo_max = max(jelo_max, jelo)\n",
    "    aghab_max = max(aghab_max, aghab)\n",
    "\n",
    "min(jelo_max, aghab_max)\n"
   ]
  },
  {
   "cell_type": "code",
   "execution_count": null,
   "metadata": {},
   "outputs": [],
   "source": [
    "from itertools import combinations, product\n",
    "import numpy as np\n",
    "a = np.array([1,2,7])#.reshape(1,3)\n",
    "b = np.array([3,4,5]).reshape(1,3)\n",
    "a.shape[0]\n",
    "# np.sum(np.concatenate([a,b]).min(axis=0))"
   ]
  },
  {
   "cell_type": "code",
   "execution_count": null,
   "metadata": {},
   "outputs": [],
   "source": [
    "a = [1,2,3,4,5]\n",
    "set(a)"
   ]
  }
 ],
 "metadata": {
  "kernelspec": {
   "display_name": ".venv",
   "language": "python",
   "name": "python3"
  },
  "language_info": {
   "codemirror_mode": {
    "name": "ipython",
    "version": 3
   },
   "file_extension": ".py",
   "mimetype": "text/x-python",
   "name": "python",
   "nbconvert_exporter": "python",
   "pygments_lexer": "ipython3",
   "version": "3.9.9 (tags/v3.9.9:ccb0e6a, Nov 15 2021, 18:08:50) [MSC v.1929 64 bit (AMD64)]"
  },
  "orig_nbformat": 4,
  "vscode": {
   "interpreter": {
    "hash": "4f358d747a7842d63e866480abf8623f1e0717cb44f07d0af95b671ed7790787"
   }
  }
 },
 "nbformat": 4,
 "nbformat_minor": 2
}
